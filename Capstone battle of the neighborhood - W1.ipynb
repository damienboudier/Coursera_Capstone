{
    "cells": [
        {
            "cell_type": "markdown",
            "metadata": {},
            "source": "# I. Introduction and problematic\n \n## Scenario\n \n A couple with two kids living in Pitt Meadows, in the Greater area of Vancouver, British Columbia in Canada, have just looked into regristering their eldest kid to the elementary school but they have severals criterias that both do not want to derogate with, before deciding where to move, if they need to.\n \n     - The school must be within 5 minutes of walking distance from their place,\n     - The school must have a french immersion program,\n     - The price of the new place to rent must not be over 1600$cad per month,\n     - The new place must be within 20 kilometers of his work place, located downtown Langley, BC,\n     - the new place must have at least two bedrooms, and be at least 1000sqft.\n \n## Business problem\n\nWell, the challenge here seems quite simple at first sight but it will require some research from different databases(cf.Section 2 below)\n \n## Interested audience\n\nAny person, couple or single parental family who desire to choose properly the future elementary school of their child. French immersion was picked for this study but we can assume that any other language of immersion could be picked as well.\n \n# II. Data section\n\n## Presentation of the data that will be used to process the scenario\n\n    - A list of the schools within vancouver greater area,\n    - A list of rentals with location, price,\n    - localization of the schools, the rentals and work place to match criterias listed above,\n\n## How the data will be collected from and be used to this problematic\n\n    - Search for french immersion elementary schools from the list the city of Vancouver provides (csv files),\n    - Use of foursquare and geopy to map rentals around elementary schools, and within 5 minutes walking distance, and matching criterias,\n    - Use foursquare to range a 20 kilometers radius from the work place,\n    \n    "
        },
        {
            "cell_type": "code",
            "execution_count": null,
            "metadata": {},
            "outputs": [],
            "source": ""
        }
    ],
    "metadata": {
        "kernelspec": {
            "display_name": "Python 3.6",
            "language": "python",
            "name": "python3"
        },
        "language_info": {
            "codemirror_mode": {
                "name": "ipython",
                "version": 3
            },
            "file_extension": ".py",
            "mimetype": "text/x-python",
            "name": "python",
            "nbconvert_exporter": "python",
            "pygments_lexer": "ipython3",
            "version": "3.6.9"
        }
    },
    "nbformat": 4,
    "nbformat_minor": 1
}