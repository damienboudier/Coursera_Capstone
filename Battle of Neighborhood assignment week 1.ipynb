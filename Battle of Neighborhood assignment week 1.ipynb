{
    "cells": [
        {
            "cell_type": "markdown",
            "metadata": {
                "collapsed": true
            },
            "source": "# I. Introduction\n\n## Scenario\n\n### Problematic\n\nA couple has been living in Vancouver, British Columbia in Canada for almost 10 years now. the husband just got offered a job in Manila, Philippines, but even if he has visited the country twice, that doesn't give him too much information on where they should settle. The couple likes to plan ahead at the best of their possibilities. they are in the mid 30's, do not have any kids, so they like to go out often, eat out, drink and so on, but they do not like driving.\nTherefore, they are looking for a place that would be great for them.\n\n### To be solved\n\nThe problematic is to find a list of activities in Manila, map of public transportation available and also a good idea of rentals and their prices.\n\n### Interested audience\n\nWhoever is about to relocate to Manila, Philippines. But that could apply to any other city in the world.\n\n## Data Section\n\n### Data needed\n\n- fetching all the venues in Manila\n- retrieving all the public transportation \n- getting an average price of rentals\n\n### Methodology\n\nUse of foursquare API to inquire all the venues within Manila, and get any additional informations to the couple so they could make a decision\n"
        }
    ],
    "metadata": {
        "kernelspec": {
            "display_name": "Python 3.6",
            "language": "python",
            "name": "python3"
        },
        "language_info": {
            "codemirror_mode": {
                "name": "ipython",
                "version": 3
            },
            "file_extension": ".py",
            "mimetype": "text/x-python",
            "name": "python",
            "nbconvert_exporter": "python",
            "pygments_lexer": "ipython3",
            "version": "3.6.9"
        }
    },
    "nbformat": 4,
    "nbformat_minor": 1
}